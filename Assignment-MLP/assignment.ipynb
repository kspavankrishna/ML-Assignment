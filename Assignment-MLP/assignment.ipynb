{
 "cells": [
  {
   "cell_type": "code",
   "execution_count": 1,
   "metadata": {},
   "outputs": [],
   "source": [
    "#IMPORTS\n",
    "import numpy as np\n",
    "import pandas as pd\n",
    "import pandas.util.testing as tm\n",
    "import matplotlib.pyplot as plt\n",
    "import seaborn as sns\n",
    "import random\n",
    "\n",
    "%matplotlib inline"
   ]
  },
  {
   "cell_type": "code",
   "execution_count": 2,
   "metadata": {},
   "outputs": [],
   "source": [
    "#PARAMETERS\n",
    "SEED = 2020\n",
    "np.random.seed(SEED)\n",
    "random.seed(SEED)\n",
    "\n",
    "numInput = 100\n",
    "numFeatures = 4"
   ]
  },
  {
   "cell_type": "code",
   "execution_count": 3,
   "metadata": {},
   "outputs": [],
   "source": [
    "#DATA GENERATION\n",
    "data = np.random.random((numInput,numFeatures+1))\n",
    "data[:(numInput//2),4] = 0\n",
    "data[(numInput//2):,4] = 1\n",
    "np.random.shuffle(data)\n",
    "\n",
    "df = pd.DataFrame(data, columns= ['Feature'+str(i) for i in range(1,5)]+['label'])\n",
    "df.to_csv(\"RandomDataSet.csv\", index=False)"
   ]
  },
  {
   "cell_type": "code",
   "execution_count": 4,
   "metadata": {},
   "outputs": [
    {
     "data": {
      "text/plain": [
       "(   Feature1  Feature2  Feature3  Feature4  label\n",
       " 0  0.765024  0.775310  0.079665  0.671696    1.0\n",
       " 1  0.079006  0.692247  0.099327  0.724138    1.0\n",
       " 2  0.188556  0.726413  0.096407  0.833940    1.0\n",
       " 3  0.576548  0.177279  0.994459  0.117375    0.0\n",
       " 4  0.970833  0.045101  0.905547  0.743335    1.0\n",
       " 5  0.255777  0.096626  0.106327  0.029901    1.0\n",
       " 6  0.153506  0.757515  0.407065  0.810765    1.0\n",
       " 7  0.967956  0.072424  0.102449  0.322625    1.0\n",
       " 8  0.602063  0.121256  0.396070  0.600806    0.0\n",
       " 9  0.420683  0.586431  0.431606  0.240137    1.0,\n",
       "     Feature1  Feature2  Feature3  Feature4  label\n",
       " 90  0.014027  0.871687  0.902407  0.449204    0.0\n",
       " 91  0.874861  0.842372  0.067810  0.310195    0.0\n",
       " 92  0.958978  0.279028  0.730804  0.199917    0.0\n",
       " 93  0.318047  0.246836  0.838455  0.084035    0.0\n",
       " 94  0.945541  0.762135  0.328678  0.925958    0.0\n",
       " 95  0.156165  0.636894  0.555696  0.191929    0.0\n",
       " 96  0.216954  0.276477  0.343316  0.862159    0.0\n",
       " 97  0.048394  0.564320  0.936032  0.803028    0.0\n",
       " 98  0.666803  0.217101  0.561427  0.124179    0.0\n",
       " 99  0.812279  0.863109  0.785879  0.193863    1.0)"
      ]
     },
     "execution_count": 4,
     "metadata": {},
     "output_type": "execute_result"
    }
   ],
   "source": [
    "#part i. Read the dataset from file\n",
    "df = pd.read_csv('RandomDataSet.csv')\n",
    "df.head(n=10) , df.tail(n=10)"
   ]
  },
  {
   "cell_type": "code",
   "execution_count": 5,
   "metadata": {},
   "outputs": [],
   "source": [
    "data = df.to_numpy()\n",
    "X = data[:,:-1]\n",
    "y = data[:,-1]"
   ]
  },
  {
   "cell_type": "code",
   "execution_count": 6,
   "metadata": {},
   "outputs": [],
   "source": [
    "#ii. Split the data into train and test. Ensure the data is split in the same way every time the program runs.\n",
    "spl = 0.2\n",
    "N = len(data)\n",
    "sample = int(spl*N)\n",
    "\n",
    "#shuffle the whole matrix data and then split\n",
    "np.random.shuffle(data)\n",
    "X_train, X_test, y_train, y_test = X[:75,:], X[75:, :], y[:75, ], y[75:,]"
   ]
  },
  {
   "cell_type": "code",
   "execution_count": 7,
   "metadata": {},
   "outputs": [
    {
     "name": "stdout",
     "output_type": "stream",
     "text": [
      "(75, 4) (25, 4)\n"
     ]
    }
   ],
   "source": [
    "print(X_train.shape , X_test.shape)"
   ]
  },
  {
   "cell_type": "code",
   "execution_count": 8,
   "metadata": {},
   "outputs": [],
   "source": [
    "#iii. Initialise the weights of the perceptron, learning rate and epochs\n",
    "weights = np.random.randn((numFeatures+1))  ## 1 for bias\n",
    "epoch = 1000\n",
    "learning_rate = 0.1"
   ]
  },
  {
   "cell_type": "code",
   "execution_count": 9,
   "metadata": {},
   "outputs": [],
   "source": [
    "#iv. Define the activation function\n",
    "def sigmoid(x):\n",
    "  return 1 / (1 + np.exp(-x))"
   ]
  },
  {
   "cell_type": "code",
   "execution_count": 10,
   "metadata": {},
   "outputs": [],
   "source": [
    "# sigmoid(np.asarray([5,7]))"
   ]
  },
  {
   "cell_type": "code",
   "execution_count": 11,
   "metadata": {},
   "outputs": [
    {
     "data": {
      "text/plain": [
       "((75, 4), (4,), (75,))"
      ]
     },
     "execution_count": 11,
     "metadata": {},
     "output_type": "execute_result"
    }
   ],
   "source": [
    "#v. Train the model i.e. Learn the weights of the perceptron on the training data.\n",
    "X_train.shape , weights[1:].shape , (X_train@weights[1:] + weights[0]).shape"
   ]
  },
  {
   "cell_type": "code",
   "execution_count": 12,
   "metadata": {},
   "outputs": [],
   "source": [
    "def predict(X):\n",
    "  return sigmoid(X@weights[1:] + weights[0])"
   ]
  },
  {
   "cell_type": "code",
   "execution_count": 13,
   "metadata": {},
   "outputs": [],
   "source": [
    "def train(X_train, y_train):\n",
    "  for _ in range(epoch):\n",
    "    prediction = predict(X_train)\n",
    "    weights[1:] += learning_rate * ( (y_train - prediction) @ X_train )\n",
    "    weights[0] += learning_rate * np.sum(y_train - prediction)\n",
    "    "
   ]
  },
  {
   "cell_type": "code",
   "execution_count": 14,
   "metadata": {},
   "outputs": [],
   "source": [
    "train(X_train, y_train)"
   ]
  },
  {
   "cell_type": "code",
   "execution_count": 15,
   "metadata": {},
   "outputs": [
    {
     "name": "stdout",
     "output_type": "stream",
     "text": [
      "Weights =  [ 1.4092323  -1.71853591 -1.09317556 -6.59606131  1.29595199]\n",
      "Epochs =  1000\n",
      "Learning Rate =  0.1\n"
     ]
    }
   ],
   "source": [
    "#vi. Print the learned weights and the hyperparameters (epoch and learning rate)\n",
    "print(\"Weights = \" , weights)\n",
    "print(\"Epochs = \" , epoch)\n",
    "print(\"Learning Rate = \" , learning_rate)"
   ]
  },
  {
   "cell_type": "code",
   "execution_count": 16,
   "metadata": {},
   "outputs": [],
   "source": [
    "#vii. Predict the outputs on train and test data\n",
    "def predictOutput(X):\n",
    "  pred = predict(X)\n",
    "  return (pred < 0.5).astype(int)"
   ]
  },
  {
   "cell_type": "code",
   "execution_count": 17,
   "metadata": {},
   "outputs": [],
   "source": [
    "pred_train = predictOutput(X_train)\n",
    "pred_test = predictOutput(X_test)\n"
   ]
  },
  {
   "cell_type": "code",
   "execution_count": 18,
   "metadata": {},
   "outputs": [
    {
     "data": {
      "text/plain": [
       "35"
      ]
     },
     "execution_count": 18,
     "metadata": {},
     "output_type": "execute_result"
    }
   ],
   "source": [
    "#viii. Print the confusion matrix, accuracy, precision, recall on train and test data\n",
    "np.sum((pred_train == y_train) & (y_train == 1))"
   ]
  },
  {
   "cell_type": "code",
   "execution_count": 19,
   "metadata": {},
   "outputs": [],
   "source": [
    "def printStats(testLabel, predicted):\n",
    "  TP = np.sum((pred_train == y_train) & (y_train == 1))\n",
    "  TN = np.sum((pred_train == y_train) & (y_train == 0))\n",
    "  FP = np.sum((pred_train != y_train) & (y_train == 0))\n",
    "  FN = np.sum((pred_train != y_train) & (y_train == 1))\n",
    "  tot = TP + TN + FP + FN\n",
    "  accuracy = (TP + TN) / tot\n",
    "  precision = TP / (TP + FP)\n",
    "  recall = TP / (TP + FN)\n",
    "\n",
    "  print(\"Accuracy = \" , accuracy)\n",
    "  print(\"Precision = \" , precision)\n",
    "  print(\"Recall = \" , recall)\n",
    "  "
   ]
  },
  {
   "cell_type": "code",
   "execution_count": 20,
   "metadata": {},
   "outputs": [],
   "source": [
    "def ShowConfusionMatrix(testLabel, predicted):\n",
    "    data = {'Actual Label': testLabel, 'Predicted Label': predicted}\n",
    "    df = pd.DataFrame(data, columns=data.keys())\n",
    "    confusion_matrix = pd.crosstab(df['Actual Label'], df['Predicted Label'], rownames=['Actual'], colnames=['Predicted'])\n",
    "    plt.figure(figsize = (10,5))\n",
    "    sns.heatmap(confusion_matrix, annot=True)"
   ]
  },
  {
   "cell_type": "code",
   "execution_count": 21,
   "metadata": {},
   "outputs": [
    {
     "name": "stdout",
     "output_type": "stream",
     "text": [
      "TRAIN STATS\n",
      "Accuracy =  0.4666666666666667\n",
      "Precision =  0.4861111111111111\n",
      "Recall =  0.9210526315789473\n"
     ]
    },
    {
     "data": {
      "image/png": "[encoded data removed]",
      "text/plain": [
       "<Figure size 720x360 with 2 Axes>"
      ]
     },
     "metadata": {
      "needs_background": "light"
     },
     "output_type": "display_data"
    }
   ],
   "source": [
    "print(\"TRAIN STATS\")\n",
    "printStats(y_train , pred_train)\n",
    "ShowConfusionMatrix(y_train , pred_train)"
   ]
  },
  {
   "cell_type": "code",
   "execution_count": 22,
   "metadata": {},
   "outputs": [
    {
     "name": "stdout",
     "output_type": "stream",
     "text": [
      "TEST STATS\n",
      "Accuracy =  0.4666666666666667\n",
      "Precision =  0.4861111111111111\n",
      "Recall =  0.9210526315789473\n"
     ]
    },
    {
     "data": {
      "image/png": "[encoded data removed]",
      "text/plain": [
       "<Figure size 720x360 with 2 Axes>"
      ]
     },
     "metadata": {
      "needs_background": "light"
     },
     "output_type": "display_data"
    }
   ],
   "source": [
    "print(\"TEST STATS\")\n",
    "printStats(y_test , pred_test)\n",
    "ShowConfusionMatrix(y_test , pred_test)"
   ]
  }
 ],
 "metadata": {
  "kernelspec": {
   "display_name": "Python 3",
   "language": "python",
   "name": "python3"
  },
  "language_info": {
   "codemirror_mode": {
    "name": "ipython",
    "version": 3
   },
   "file_extension": ".py",
   "mimetype": "text/x-python",
   "name": "python",
   "nbconvert_exporter": "python",
   "pygments_lexer": "ipython3",
   "version": "3.7.4"
  }
 },
 "nbformat": 4,
 "nbformat_minor": 2
}
